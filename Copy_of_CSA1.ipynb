{
  "nbformat": 4,
  "nbformat_minor": 0,
  "metadata": {
    "colab": {
      "name": "Copy of CSA1.ipynb",
      "provenance": [],
      "collapsed_sections": [],
      "authorship_tag": "ABX9TyM5GLx1MPDS2J+e7llE7jZj",
      "include_colab_link": true
    },
    "kernelspec": {
      "name": "python3",
      "display_name": "Python 3"
    },
    "language_info": {
      "name": "python"
    }
  },
  "cells": [
    {
      "cell_type": "markdown",
      "metadata": {
        "id": "view-in-github",
        "colab_type": "text"
      },
      "source": [
        "<a href=\"https://colab.research.google.com/github/PRASHM7/04anubhavv.github.io/blob/master/Copy_of_CSA1.ipynb\" target=\"_parent\"><img src=\"https://colab.research.google.com/assets/colab-badge.svg\" alt=\"Open In Colab\"/></a>"
      ]
    },
    {
      "cell_type": "code",
      "source": [
        "while True:\n",
        "  print('''Menu Driven program:\n",
        "  1. Addition\n",
        "  2.Subtraction\n",
        "  3.Multiplication\n",
        "  4.Floor Division\n",
        "  5.Division\n",
        "  7.Modulo\n",
        "  6.Power\n",
        "  7.Equality\n",
        "  8.Exit''')\n",
        "  \n",
        "  \n",
        "  c=int(input(\"Enter your choice: \"))\n",
        "  \n",
        "  \n",
        "  if c == 1:\n",
        "      a=int(input(\"Enter the first number:\"))\n",
        "      b=int(input(\"Enter the second number:\"))\n",
        "      s=a+b\n",
        "      print(\"Addition of\",a,\"and\",b,\"is\",s)\n",
        "  \n",
        "  elif c == 2:\n",
        "      a=int(input(\"Enter the first number:\"))\n",
        "      b=int(input(\"Enter the second number:\"))\n",
        "      print(\"subtraction of\",a,\"and\",b,\"is\",a-b)\n",
        "  \n",
        "  elif c == 3:\n",
        "      a=int(input(\"Enter the first number:\"))\n",
        "      b=int(input(\"Enter the second number:\"))\n",
        "      print(\"Multiplication of\",a,\"and\",b,\"is\",a*b)\n",
        "\n",
        "  elif c == 4:\n",
        "      a=int(input(\"Enter the first number:\"))\n",
        "      b=int(input(\"Enter the second number:\"))\n",
        "      print(\"Floor division of\",a,\"and\",b,\"is\",a//b)\n",
        "\n",
        "  elif c == 5:\n",
        "      a=int(input(\"Enter the first number:\"))\n",
        "      b=int(input(\"Enter the second number:\"))\n",
        "      print(\"Division of\",a,\"and\",b,\"is\",a/b)\n",
        "  \n",
        "  elif c == 6:\n",
        "      a=int(input(\"Enter the first number:\"))\n",
        "      b=int(input(\"Enter the second number:\"))\n",
        "      print(a,\"raised to the power\",b,\"is\",a**b)\n",
        "\n",
        "  elif c == 7:\n",
        "      a=int(input(\"Enter the first number:\"))\n",
        "      b=int(input(\"Enter the second number:\"))\n",
        "      print(\" Modulo of\",a,\"and\",b,\"is\",a%b)\n",
        "  \n",
        "  elif c == 8:\n",
        "        print(\"thank you.\")\n",
        "        break\n",
        "  else:\n",
        "        print(\"Wrong Choice\")"
      ],
      "metadata": {
        "colab": {
          "base_uri": "https://localhost:8080/"
        },
        "id": "r7KQNqlG5H9A",
        "outputId": "7e777b10-407a-4e15-889b-2d880a466caa"
      },
      "execution_count": null,
      "outputs": [
        {
          "output_type": "stream",
          "name": "stdout",
          "text": [
            "Menu Driven program:\n",
            "  1. Addition\n",
            "  2.Subtraction\n",
            "  3.Multiplication\n",
            "  4.Floor Division\n",
            "  5.Division\n",
            "  7.Modulo\n",
            "  6.Power\n",
            "  7.Equality\n",
            "  8.Exit\n",
            "Enter your choice: 5\n",
            "Enter the first number:4\n",
            "Enter the second number:5\n",
            "Division of 4 and 5 is 0.8\n",
            "Menu Driven program:\n",
            "  1. Addition\n",
            "  2.Subtraction\n",
            "  3.Multiplication\n",
            "  4.Floor Division\n",
            "  5.Division\n",
            "  7.Modulo\n",
            "  6.Power\n",
            "  7.Equality\n",
            "  8.Exit\n",
            "Enter your choice: 8\n",
            "thank you.\n"
          ]
        }
      ]
    },
    {
      "cell_type": "code",
      "source": [
        "p=eval(input(\"Enter the number for p:\"))\n",
        "q=eval(input(\"Enter the number for q: \"))\n",
        "\n",
        "s=(2+8*p/2)-((p-q)*(p+q)/2)+(4*(p+q)/2)\n",
        "print(s)"
      ],
      "metadata": {
        "colab": {
          "base_uri": "https://localhost:8080/"
        },
        "id": "bHqq49Tl5h4u",
        "outputId": "6f481957-5a5e-45b5-8cb3-b026fc5938b6"
      },
      "execution_count": null,
      "outputs": [
        {
          "output_type": "stream",
          "name": "stdout",
          "text": [
            "Enter the number for p:77\n",
            "Enter the number for q: 23\n",
            "-2190.0\n"
          ]
        }
      ]
    },
    {
      "cell_type": "code",
      "source": [
        "#write a program to :\n",
        "# convert a decimal to binary\n",
        "\n",
        "def BINtoDEC(n):\n",
        "  num=n\n",
        "  dec_value=0\n",
        "  base=1\n",
        "  temp=num\n",
        "  while(temp):\n",
        "    last=temp%10\n",
        "    temp=int(temp/10)\n",
        "    dec_value+=last*base\n",
        "    base=base*2\n",
        "  return dec_value\n",
        "#main code\n",
        "num=int(input(\"Enter a binary number:\"))\n",
        "print(BINtoDEC(num))"
      ],
      "metadata": {
        "colab": {
          "base_uri": "https://localhost:8080/"
        },
        "id": "Q08kFfkG5uoO",
        "outputId": "665a9856-158b-42b0-9e0e-da17137fda78"
      },
      "execution_count": null,
      "outputs": [
        {
          "output_type": "stream",
          "name": "stdout",
          "text": [
            "Enter a binary number:1100\n",
            "12\n"
          ]
        }
      ]
    },
    {
      "cell_type": "code",
      "source": [
        "#write a program to :\n",
        "# convert a decimal to binary\n",
        "\n",
        "def BINtoDEC(n):\n",
        "  num=n\n",
        "  dec_value=0\n",
        "  base=1\n",
        "  temp=num\n",
        "  while(temp):\n",
        "    last=temp%10\n",
        "    temp=int(temp/10)\n",
        "    dec_value+=last*base\n",
        "    base=base*2\n",
        "  return dec_value\n",
        "#main code\n",
        "num=int(input(\"Enter a binary number:\"))\n",
        "print(BINtoDEC(num))"
      ],
      "metadata": {
        "colab": {
          "base_uri": "https://localhost:8080/"
        },
        "id": "Slv1eBIC59s4",
        "outputId": "12527b2f-2ec5-4d87-83a0-18486a89f68a"
      },
      "execution_count": null,
      "outputs": [
        {
          "output_type": "stream",
          "name": "stdout",
          "text": [
            "Enter a binary number:1010\n",
            "10\n"
          ]
        }
      ]
    },
    {
      "cell_type": "code",
      "source": [
        "conversion_table={0:'0', 1:'1', 2:'2', 3:'3', 4:'4',\n",
        "                    5:'5', 6:'6', 7:'7', 8:'8', 9:'9',\n",
        "                    10:'A', 11:'B', 12:'C', 13:'D',\n",
        "                    14:'E', 15:'F'}\n",
        "\n",
        "n=eval(input(\"Enter a number: \"))\n",
        "temp=0\n",
        "r=[]\n",
        "while(n>0):\n",
        "  temp=n%16\n",
        "  eqvi=conversion_table[temp]\n",
        "  r.append(eqvi)\n",
        "  n=n//16\n",
        "\n",
        "for i in range(len(r)-1,-1,-1):\n",
        "  print(r[i],end=' ')"
      ],
      "metadata": {
        "colab": {
          "base_uri": "https://localhost:8080/"
        },
        "id": "TMNdqqx061kG",
        "outputId": "7325d283-872e-409d-a933-62f6bed8ee78"
      },
      "execution_count": null,
      "outputs": [
        {
          "output_type": "stream",
          "name": "stdout",
          "text": [
            "Enter a number: 13\n",
            "D "
          ]
        }
      ]
    },
    {
      "cell_type": "code",
      "source": [
        "#for left shift\n",
        "n=int(input(\"Enter a number:\"))\n",
        "s=int(input(\"Enter the number of bits to be shifted left:\"))\n",
        "print(n,\"<<\",s,\"=\",n<<s)"
      ],
      "metadata": {
        "colab": {
          "base_uri": "https://localhost:8080/"
        },
        "id": "wGdnS2NJ7DV_",
        "outputId": "f92dca0b-df60-4b0e-9517-66ddd8337c1f"
      },
      "execution_count": null,
      "outputs": [
        {
          "output_type": "stream",
          "name": "stdout",
          "text": [
            "Enter a number:5\n",
            "Enter the number of bits to be shifted left:3\n",
            "5 << 3 = 40\n"
          ]
        }
      ]
    },
    {
      "cell_type": "code",
      "source": [
        "#for right shift2\n",
        "n=int(input(\"Enter a number:\"))\n",
        "s=int(input(\"Enter the number of bits to be shifted right:\"))\n",
        "print(n,\">>\",s,\"=\",n>>s)"
      ],
      "metadata": {
        "colab": {
          "base_uri": "https://localhost:8080/"
        },
        "id": "VxGfNmeA7PNJ",
        "outputId": "b5dbc625-0213-4acd-ca57-46956b824f02"
      },
      "execution_count": null,
      "outputs": [
        {
          "output_type": "stream",
          "name": "stdout",
          "text": [
            "Enter a number:6\n",
            "Enter the number of bits to be shifted right:2\n",
            "6 >> 2 = 1\n"
          ]
        }
      ]
    },
    {
      "cell_type": "code",
      "source": [
        "#for and, or, xor:\n",
        "i=2\n",
        "while(i>1):\n",
        "  \n",
        "  print(''' 1. AND operator\n",
        " 2. OR operator\n",
        " 3. XOR opertator\n",
        " 4. Exit''')\n",
        "  \n",
        "  c=int(input(\"Enter your choice: \"))\n",
        "\n",
        "  if c==1:\n",
        "    m=int(input(\"Enter the first number:\"))\n",
        "    n=int(input(\"Enter the second number:\"))\n",
        "    print(m,\"&\",n,\"=\",m&n)\n",
        "   \n",
        "  \n",
        "  elif c==2:\n",
        "    m=int(input(\"Enter the first number:\"))\n",
        "    n=int(input(\"Enter the second number:\"))\n",
        "    print(m,\"|\",n,\"=\",m|n)\n",
        "\n",
        "  elif c==3:\n",
        "    m=int(input(\"Enter the first number:\"))\n",
        "    n=int(input(\"Enter the second number:\"))\n",
        "    print(m,\"^\",n,\"=\",m^n)\n",
        "  \n",
        "  elif c==4:\n",
        "   \n",
        "    i=0\n",
        "    print(\"Thank you\")\n",
        "  else:\n",
        "    print(\"Invalid input. Do you want to retry? if yes continue to input otherwise press 4 and exit.\")"
      ],
      "metadata": {
        "colab": {
          "base_uri": "https://localhost:8080/"
        },
        "id": "awxZC-5y7T1z",
        "outputId": "673a14c8-e736-4cc5-dc17-4b5f94fabf62"
      },
      "execution_count": null,
      "outputs": [
        {
          "output_type": "stream",
          "name": "stdout",
          "text": [
            " 1. AND operator\n",
            " 2. OR operator\n",
            " 3. XOR opertator\n",
            " 4. Exit\n",
            "Enter your choice: 2\n",
            "Enter the first number:1\n",
            "Enter the second number:1\n",
            "1 | 1 = 1\n",
            " 1. AND operator\n",
            " 2. OR operator\n",
            " 3. XOR opertator\n",
            " 4. Exit\n",
            "Enter your choice: 4\n",
            "Thank you\n"
          ]
        }
      ]
    },
    {
      "cell_type": "code",
      "source": [
        "#1's compliment and 2's compliment\n",
        "\n",
        "num = int(input(\"enter your number:\"))\n",
        "base=int(input(\"enter your base:\"))\n",
        "a=bin(num).replace(\"0b\",\"\")\n",
        "k=len(a)\n",
        "one=(((base)**k)-1)-num\n",
        "two=((((base)**k)-1)-num)+1\n",
        "print((base-1),\"'s\",\" \",\"complement is\",bin(one).replace(\"b\",\"\"))\n",
        "print(base,\"'s\",\" \",\"complement is\",bin(two).replace(\"b\",\"\"))"
      ],
      "metadata": {
        "colab": {
          "base_uri": "https://localhost:8080/"
        },
        "id": "8Qinw_Lh8D-g",
        "outputId": "43640eb1-a601-4051-c90a-aa34047874bf"
      },
      "execution_count": null,
      "outputs": [
        {
          "output_type": "stream",
          "name": "stdout",
          "text": [
            "enter your number:6\n",
            "enter your base:2\n",
            "1 's   complement is 01\n",
            "2 's   complement is 010\n"
          ]
        }
      ]
    },
    {
      "cell_type": "code",
      "source": [
        "num=int(input(\"enter the number = \"))\n",
        "b=bin(num).replace(\"0b\",\"\")\n",
        "print(\"Binary of number = \",b)\n",
        "k=len(b)\n",
        "comp1 = (2**k - 1)- num\n",
        "comp2 = (2**k - 1)-num+1\n",
        "print(\"1 s complement = \",bin(comp1).replace(\"b\",\"\"))\n",
        "print(\"2 s complement = \",bin(comp2).replace(\"b\",\"\"))"
      ],
      "metadata": {
        "colab": {
          "base_uri": "https://localhost:8080/"
        },
        "id": "zabLricf8RCo",
        "outputId": "ec8bc783-f097-4b03-fbc1-12f692c5529a"
      },
      "execution_count": null,
      "outputs": [
        {
          "output_type": "stream",
          "name": "stdout",
          "text": [
            "enter the number = 12\n",
            "Binary of number =  1100\n",
            "1 s complement =  011\n",
            "2 s complement =  0100\n"
          ]
        }
      ]
    },
    {
      "cell_type": "code",
      "source": [
        "#addition, subtraction , multiplication , division of binary numbers\n",
        "\n",
        "a=int(input(\"enter the first decimal number: \"))\n",
        "b=int(input(\"enter the second decimal number: \"))\n",
        "b1=bin(a)\n",
        "b2=bin(b)\n",
        "print(\"binary conversion for \",a,\" is \",b1)\n",
        "print(\"binary conversion for \",b,\" is \",b2)\n",
        "\n",
        "#add\n",
        "s=a+b\n",
        "p=bin(s)\n",
        "print(\"sum is : \",p)\n",
        "\n",
        "#subtract\n",
        "m=a-b\n",
        "q=bin(m)\n",
        "print(\"reduction is : \",q)\n",
        "\n",
        "#multiplication\n",
        "w=a*b\n",
        "r=bin(w)\n",
        "print(\"product is : \",r)\n",
        "\n",
        "#division\n",
        "f=a//b\n",
        "g=bin(f)\n",
        "print(\"division is : \",g)"
      ],
      "metadata": {
        "colab": {
          "base_uri": "https://localhost:8080/"
        },
        "id": "w6om5u8f8b1Q",
        "outputId": "a129cd7b-a944-49d8-9828-1b131b6ede0c"
      },
      "execution_count": null,
      "outputs": [
        {
          "output_type": "stream",
          "name": "stdout",
          "text": [
            "enter the first decimal number: 10\n",
            "enter the second decimal number: 6\n",
            "binary conversion for  10  is  0b1010\n",
            "binary conversion for  6  is  0b110\n",
            "sum is :  0b10000\n",
            "reduction is :  0b100\n",
            "product is :  0b111100\n",
            "division is :  0b1\n"
          ]
        }
      ]
    },
    {
      "cell_type": "code",
      "source": [
        "a=[]\n",
        "b=[]\n",
        "c=[]\n",
        "def decimaltoanybase(num,base,a):\n",
        "    if num >= 1:\n",
        "      \n",
        "      decimaltoanybase (num // base,base,a)\n",
        "    b = num % base\n",
        "    # appending the number into list a\n",
        "    a.append(b)\n",
        "\n",
        "\n",
        "base=int(input(\"enter base = \"))\n",
        "num=int(input(\"enter number = \"))\n",
        "decimaltoanybase(num,base,a)\n",
        "a.pop(a[0])\n",
        "print(base,\"base number is   = \",a)\n",
        "\n",
        "k=len(a)\n",
        "comp1 = (base**k - 1)- num\n",
        "comp2 = (base**k - 1)-num+1\n",
        "\n",
        "decimaltoanybase(comp1,base,b)\n",
        "print(base -1,\"'s complement is = \",b)\n",
        "decimaltoanybase(comp2,base,c)\n",
        "print(base,\"'s complement is = \",c)"
      ],
      "metadata": {
        "colab": {
          "base_uri": "https://localhost:8080/"
        },
        "id": "Xjzhosf48lDX",
        "outputId": "e56b53fc-2c5e-4134-e291-73d3548acdba"
      },
      "execution_count": null,
      "outputs": [
        {
          "output_type": "stream",
          "name": "stdout",
          "text": [
            "enter base = 3\n",
            "enter number = 123\n",
            "3 base number is   =  [1, 1, 1, 2, 0]\n",
            "2 's complement is =  [0, 1, 1, 1, 0, 2]\n",
            "3 's complement is =  [0, 1, 1, 1, 1, 0]\n"
          ]
        }
      ]
    },
    {
      "cell_type": "code",
      "source": [
        "#bitwise addition\n",
        "a=input(\"enter the first binary number: \")\n",
        "print(\"decimal number is :\",(a))\n",
        "b=input(\"enter the second binary number: \")\n",
        "sum=bin(int(a,2) + int(b,2))\n",
        "print(sum[2:])"
      ],
      "metadata": {
        "colab": {
          "base_uri": "https://localhost:8080/"
        },
        "id": "JikCVOpZ8xUR",
        "outputId": "82f46fb1-c87f-436f-b844-f1edb98aa343"
      },
      "execution_count": null,
      "outputs": [
        {
          "output_type": "stream",
          "name": "stdout",
          "text": [
            "enter the first binary number: 1001\n",
            "decimal number is : 1001\n",
            "enter the second binary number: 1010\n",
            "10011\n"
          ]
        }
      ]
    },
    {
      "cell_type": "code",
      "source": [
        "#bitwise addition\n",
        "a=input(\"enter the first octal number: \")\n",
        "\n",
        "b=input(\"enter the second octal number: \")\n",
        "sum=oct(int(a,8) + int(b,8))\n",
        "print(sum[2:])"
      ],
      "metadata": {
        "colab": {
          "base_uri": "https://localhost:8080/"
        },
        "id": "EWpQR64y8-HY",
        "outputId": "e3c7b254-aa25-4626-c6cf-b947047bc618"
      },
      "execution_count": null,
      "outputs": [
        {
          "output_type": "stream",
          "name": "stdout",
          "text": [
            "enter the first octal number: 123\n",
            "enter the second octal number: 123\n",
            "246\n"
          ]
        }
      ]
    },
    {
      "cell_type": "code",
      "source": [
        "#bitwise subtraction\n",
        "\n",
        "a=input(\"enter the first binary number: \")\n",
        "b=input(\"enter the second binary number: \")\n",
        "\n",
        "red=bin(int(a,2) - int(b,2))\n",
        "print(\"result :\",red[2:])"
      ],
      "metadata": {
        "colab": {
          "base_uri": "https://localhost:8080/"
        },
        "id": "nIXV8r8Q9EMH",
        "outputId": "d1d7c2a9-48d0-47d5-ea27-f306fc5365c1"
      },
      "execution_count": null,
      "outputs": [
        {
          "output_type": "stream",
          "name": "stdout",
          "text": [
            "enter the first binary number: 10\n",
            "enter the second binary number: 01\n",
            "result : 1\n"
          ]
        }
      ]
    },
    {
      "cell_type": "code",
      "source": [
        "# selective set operation\n",
        "#Or\n",
        "\n",
        "a=input(\"enter the first binary number: \")\n",
        "b=input(\"enter the second binary number: \")\n",
        "\n",
        "print(a)\n",
        "print(b)\n",
        "l=len(a)\n",
        "res=[]\n",
        "\n",
        "for i in range(l):\n",
        "  if (a[i]==\"0\" and b[i]==\"0\"):\n",
        "    res.append(0)\n",
        "  else:\n",
        "    res.append(1)\n",
        "\n",
        "print(res)  "
      ],
      "metadata": {
        "colab": {
          "base_uri": "https://localhost:8080/"
        },
        "id": "SS9ieU_S9MiX",
        "outputId": "6732f640-5ff7-4f79-f704-5e69947153d0"
      },
      "execution_count": null,
      "outputs": [
        {
          "output_type": "stream",
          "name": "stdout",
          "text": [
            "enter the first binary number: 1100\n",
            "enter the second binary number: 1010\n",
            "1100\n",
            "1010\n",
            "[1, 1, 1, 0]\n"
          ]
        }
      ]
    },
    {
      "cell_type": "code",
      "source": [
        "# selective set operation (complement)\n",
        "#xor\n",
        "\n",
        "a=input(\"enter the first binary number: \")\n",
        "b=input(\"enter the second binary number: \")\n",
        "\n",
        "print(a)\n",
        "print(b)\n",
        "l=len(a)\n",
        "res=[]\n",
        "\n",
        "for i in range(l):\n",
        "  if (a[i]==\"0\" and b[i]==\"0\"):\n",
        "    res.append(0)\n",
        "  elif (a[i]==\"1\" and b[i]==\"1\"):\n",
        "    res.append(0)\n",
        "  else:\n",
        "    res.append(1)\n",
        "\n",
        "print(res)"
      ],
      "metadata": {
        "colab": {
          "base_uri": "https://localhost:8080/"
        },
        "id": "OgfwbYep9ZX3",
        "outputId": "6c683b35-1128-4083-f253-fb718c2e9fe1"
      },
      "execution_count": null,
      "outputs": [
        {
          "output_type": "stream",
          "name": "stdout",
          "text": [
            "enter the first binary number: 1100\n",
            "enter the second binary number: 0101\n",
            "1100\n",
            "0101\n",
            "[1, 0, 0, 1]\n"
          ]
        }
      ]
    },
    {
      "cell_type": "code",
      "source": [
        "#selective clear\n",
        "    \n",
        "a=input(\"enter the first binary number: \")\n",
        "b=input(\"enter the second binary number: \")\n",
        "\n",
        "print(a)\n",
        "print(b)\n",
        "l=len(a)\n",
        "res=[]\n",
        "\n",
        "for i in range(l):\n",
        "    if (b[i]==\"1\"):\n",
        "       res.append(1)\n",
        "    elif (a[i]==\"0\" and b[i]==\"0\"):\n",
        "       res.append(0)\n",
        "    elif (a[i]==\"1\" and b[i]==\"0\"):\n",
        "       res.append(1)\n",
        "\n",
        "print(res)"
      ],
      "metadata": {
        "colab": {
          "base_uri": "https://localhost:8080/"
        },
        "id": "1ISPTp0h9iRf",
        "outputId": "211c80cf-3131-4d5b-b66a-185061e95efa"
      },
      "execution_count": null,
      "outputs": [
        {
          "output_type": "stream",
          "name": "stdout",
          "text": [
            "enter the first binary number: 1010\n",
            "enter the second binary number: 1110\n",
            "1010\n",
            "1110\n",
            "[1, 1, 1, 0]\n"
          ]
        }
      ]
    },
    {
      "cell_type": "code",
      "source": [
        "#selective mask\n",
        "\n",
        "b=input(\"enter the first binary number: \")\n",
        "a=input(\"enter the second binary number: \")\n",
        "\n",
        "print(a)\n",
        "print(b)\n",
        "l=len(a)\n",
        "res=[]\n",
        "\n",
        "for i in range(l):\n",
        "  if (a[i]==\"1\" and b[i]==\"1\"):\n",
        "    res.append(1)\n",
        "  else:\n",
        "    res.append(0)\n",
        "\n",
        "print(res)"
      ],
      "metadata": {
        "colab": {
          "base_uri": "https://localhost:8080/"
        },
        "id": "aMO9wCMo-jDx",
        "outputId": "c680acd3-52c0-4eef-e8ad-6977945fceac"
      },
      "execution_count": null,
      "outputs": [
        {
          "output_type": "stream",
          "name": "stdout",
          "text": [
            "enter the first binary number: 1100\n",
            "enter the second binary number: 1101\n",
            "1101\n",
            "1100\n",
            "[1, 1, 0, 0]\n"
          ]
        }
      ]
    },
    {
      "cell_type": "code",
      "source": [
        "while True:\n",
        "  print(\"1.Complement\")\n",
        "  print(\"2.Clear\")\n",
        "  print(\"3.Set\")\n",
        "  print(\"4.Mask\")\n",
        "  print(\"5.Exit\")\n",
        "    \n",
        "  c=int(input(\"Enter your choice: \"))\n",
        "  if c==1:\n",
        "    \"Welcome to selective complement operation\"\n",
        "    b=input(\"enter the first binary number: \")\n",
        "    a=input(\"enter the second binary number: \")\n",
        "\n",
        "    print(a)\n",
        "    print(b)\n",
        "    l=len(a)\n",
        "    res=[]\n",
        "\n",
        "    for i in range(l):\n",
        "       if (a[i]==\"0\" and b[i]==\"0\"):\n",
        "         res.append(0)\n",
        "       elif (a[i]==\"1\" and b[i]==\"1\"):\n",
        "         res.append(0)\n",
        "       else:\n",
        "         res.append(1)\n",
        "\n",
        "    print(res)  \n",
        "\n",
        "  if c==2:\n",
        "  \n",
        "    #selective clear\n",
        "    a=input(\"enter the first binary number: \")\n",
        "    b=input(\"enter the second binary number: \")\n",
        "    print(a)\n",
        "    print(b)\n",
        "    l=len(a)\n",
        "    res=[]\n",
        "\n",
        "    for i in range(l):\n",
        "      if (b[i]==\"1\"):\n",
        "        res.append(1)\n",
        "      elif (a[i]==\"0\" and b[i]==\"0\"):\n",
        "        res.append(0)\n",
        "      elif (a[i]==\"1\" and b[i]==\"0\"):\n",
        "        res.append(1)\n",
        "\n",
        "    print(res)\n",
        "\n",
        "  if c==3:\n",
        "    #selective set\n",
        "    b=input(\"enter the first binary number: \")\n",
        "    a=input(\"enter the second binary number: \")\n",
        "\n",
        "    print(a)\n",
        "    print(b)\n",
        "    l=len(a)\n",
        "    res=[]\n",
        "\n",
        "    for i in range(l):\n",
        "      if (a[i]==\"0\" and b[i]==\"0\"):\n",
        "        res.append(0)\n",
        "      else:\n",
        "        res.append(1)\n",
        "\n",
        "    print(res)  \n",
        "\n",
        "  if c==4:\n",
        "    #selective mask\n",
        "\n",
        "    b=input(\"enter the first binary number: \")\n",
        "    a=input(\"enter the second binary number: \")\n",
        "\n",
        "    print(a)\n",
        "    print(b)\n",
        "    l=len(a)\n",
        "    res=[]\n",
        "\n",
        "    for i in range(l):\n",
        "      if (a[i]==\"1\" and b[i]==\"1\"):\n",
        "        res.append(1)\n",
        "      else:\n",
        "        res.append(0)\n",
        "\n",
        "    print(res) \n",
        "  \n",
        "  if c==5:\n",
        "    print(\"Thank you.\")\n",
        "    break\n",
        "  else:\n",
        "    print(\"Invalid input.Retry\")"
      ],
      "metadata": {
        "colab": {
          "base_uri": "https://localhost:8080/"
        },
        "id": "RAQAbi3A-av6",
        "outputId": "175070dd-5b25-4665-ed88-b1b3ae806ab2"
      },
      "execution_count": null,
      "outputs": [
        {
          "output_type": "stream",
          "name": "stdout",
          "text": [
            "1.Complement\n",
            "2.Clear\n",
            "3.Set\n",
            "4.Mask\n",
            "5.Exit\n",
            "Enter your choice: 4\n",
            "enter the first binary number: 1100\n",
            "enter the second binary number: 1010\n",
            "1010\n",
            "1100\n",
            "[1, 0, 0, 0]\n",
            "Invalid input.Retry\n",
            "1.Complement\n",
            "2.Clear\n",
            "3.Set\n",
            "4.Mask\n",
            "5.Exit\n",
            "Enter your choice: 4\n",
            "enter the first binary number: 1100\n",
            "enter the second binary number: 1010\n",
            "1010\n",
            "1100\n",
            "[1, 0, 0, 0]\n",
            "Invalid input.Retry\n",
            "1.Complement\n",
            "2.Clear\n",
            "3.Set\n",
            "4.Mask\n",
            "5.Exit\n",
            "Enter your choice: 5\n",
            "Thank you.\n"
          ]
        }
      ]
    },
    {
      "cell_type": "code",
      "source": [
        "#Ocatl addition\n",
        "\n",
        "a=input(\"Enter first no. :\")\n",
        "b=input(\"Enter second no. :\")\n",
        "  \n",
        "sum = oct(int(a, 8) + int(b, 8))\n",
        "  \n",
        "print(sum[2:])"
      ],
      "metadata": {
        "colab": {
          "base_uri": "https://localhost:8080/"
        },
        "id": "if9bf-ZR3dIa",
        "outputId": "a47d85cc-189c-4d60-f884-9806b77c27ab"
      },
      "execution_count": null,
      "outputs": [
        {
          "output_type": "stream",
          "name": "stdout",
          "text": [
            "Enter first no. :123\n",
            "Enter second no. :456\n",
            "601\n"
          ]
        }
      ]
    },
    {
      "cell_type": "code",
      "source": [
        "while True:\n",
        "  print(\"\"\" \n",
        "  1) Addition\n",
        "  2) Subtraction\n",
        "  3) Exit\"\"\")\n",
        "\n",
        "  \n",
        "  choice=int(input(\"Enter your choice\"))\n",
        "  \n",
        "  if choice==1:\n",
        "    #octal Addition\n",
        "    num_1 = input(\"Enter First Octal N0. :\")\n",
        "    num_2 = input(\"Enter Second octal No.  :\")\n",
        "\n",
        "\n",
        "    def OctalToDecimal(num):\n",
        "        \n",
        "        decimal_value = 0\n",
        "        base = 1\n",
        "\n",
        "        while (num):\n",
        "              last_digit = num % 10\n",
        "              num = int(num / 10)\n",
        "              decimal_value += last_digit * base\n",
        "              base = base * 8\n",
        "        return decimal_value\n",
        "\n",
        "    A=OctalToDecimal(int(num_1))\n",
        "    B=OctalToDecimal(int(num_2))\n",
        "    result=A+B\n",
        "\n",
        "\n",
        "    def decToOctal(n):\n",
        "\n",
        "          octalNum = [0] * 100\n",
        "\n",
        "          i = 0\n",
        "          while (n != 0):\n",
        "\n",
        "              octalNum[i] = n % 8\n",
        "              n = int(n / 8)\n",
        "              i += 1\n",
        "\n",
        "          for j in range(i - 1, -1, -1):\n",
        "                print(octalNum[j], end=\"\")\n",
        "\n",
        "    n = result \n",
        "    print(\"Result= \",end=\"\")\n",
        "    decToOctal(n)\n",
        "\n",
        "\n",
        "\n",
        "\n",
        "  elif choice==2:\n",
        "    #Octal Subtraction\n",
        "    num_1 = input(\"Enter First Octal N0. :\")\n",
        "    num_2 = input(\"Enter Second octal No.  :\")\n",
        "\n",
        "\n",
        "    def OctalToDecimal(num):\n",
        "\n",
        "          decimal_value = 0\n",
        "          base = 1\n",
        "\n",
        "          while (num):\n",
        "              last_digit = num % 10\n",
        "              num = int(num / 10)\n",
        "              decimal_value += last_digit * base\n",
        "              base = base * 8\n",
        "          return decimal_value\n",
        "\n",
        "    A=OctalToDecimal(int(num_1))\n",
        "    B=OctalToDecimal(int(num_2))\n",
        "    result=A-B\n",
        "        \n",
        "\n",
        "\n",
        "    def decToOctal(n):\n",
        "\n",
        "            octalNum = [0] * 100\n",
        "\n",
        "            i = 0\n",
        "            while (n != 0):\n",
        "\n",
        "                octalNum[i] = n % 8\n",
        "                n = int(n / 8)\n",
        "                i += 1\n",
        "\n",
        "            for j in range(i - 1, -1, -1):\n",
        "                print(octalNum[j], end=\"\")\n",
        "\n",
        "\n",
        "\n",
        "    n = result \n",
        "    print(\"Result= \",end=\"\")\n",
        "    decToOctal(n)\n",
        "   \n",
        "\n",
        "  else:\n",
        "      break"
      ],
      "metadata": {
        "colab": {
          "base_uri": "https://localhost:8080/"
        },
        "id": "0IqbCLwOieUD",
        "outputId": "58b73948-44fc-4e9d-cc4d-1bd510bbc8e3"
      },
      "execution_count": null,
      "outputs": [
        {
          "name": "stdout",
          "output_type": "stream",
          "text": [
            " \n",
            "  1) Addition\n",
            "  2) Subtraction\n",
            "  3) Exit\n",
            "Enter your choice1\n",
            "Enter First Octal N0. :5725\n",
            "Enter Second octal No.  :1275\n",
            "Result= 7222 \n",
            "  1) Addition\n",
            "  2) Subtraction\n",
            "  3) Exit\n",
            "Enter your choice3\n"
          ]
        }
      ]
    },
    {
      "cell_type": "code",
      "source": [
        "#Octal Subtraction\n",
        "\n",
        "a=input(\"Enter first no. :\")\n",
        "b=input(\"Enter second no. :\")\n",
        "  \n",
        "rad = oct(int(a, 8) - int(b, 8))\n",
        "  \n",
        "print(rad[2:])"
      ],
      "metadata": {
        "colab": {
          "base_uri": "https://localhost:8080/"
        },
        "id": "R2zeKcLy4msv",
        "outputId": "9b4bc654-dcf3-4ead-fb69-88fb8a1057a2"
      },
      "execution_count": null,
      "outputs": [
        {
          "output_type": "stream",
          "name": "stdout",
          "text": [
            "Enter first no. :2526\n",
            "Enter second no. :1257\n",
            "1247\n"
          ]
        }
      ]
    },
    {
      "cell_type": "code",
      "source": [
        "#octal Addition\n",
        "\n",
        "num_1 = input(\"Enter First Octal N0. :\")\n",
        "num_2 = input(\"Enter Second octal No.  :\")\n",
        "\n",
        "\n",
        "def OctalToDecimal(num):\n",
        "    \n",
        "    decimal_value = 0\n",
        "    base = 1\n",
        "\n",
        "    while (num):\n",
        "          last_digit = num % 10\n",
        "          num = int(num / 10)\n",
        "          decimal_value += last_digit * base\n",
        "          base = base * 8\n",
        "    return decimal_value\n",
        "\n",
        "A=OctalToDecimal(int(num_1))\n",
        "B=OctalToDecimal(int(num_2))\n",
        "result=A+B\n",
        "\n",
        "\n",
        "def decToOctal(n):\n",
        "\n",
        "      octalNum = [0] * 100\n",
        "\n",
        "      i = 0\n",
        "      while (n != 0):\n",
        "\n",
        "          octalNum[i] = n % 8\n",
        "          n = int(n / 8)\n",
        "          i += 1\n",
        "\n",
        "      for j in range(i - 1, -1, -1):\n",
        "            print(octalNum[j], end=\"\")\n",
        "\n",
        "n = result \n",
        "print(\"Result= \",end=\"\")\n",
        "decToOctal(n)\n",
        "\n"
      ],
      "metadata": {
        "id": "bwy11K1l1Fo7",
        "colab": {
          "base_uri": "https://localhost:8080/"
        },
        "outputId": "18eca23d-3abc-4c36-e34c-3965ca4ace46"
      },
      "execution_count": null,
      "outputs": [
        {
          "output_type": "stream",
          "name": "stdout",
          "text": [
            "Enter an octal number A :3576\n",
            "Enter an octal number B :2345\n",
            "A+B=6143"
          ]
        }
      ]
    },
    {
      "cell_type": "code",
      "source": [
        "#Octal Subtraction\n",
        "\n",
        "num_1 = input(\"Enter First Octal N0. :\")\n",
        "num_2 = input(\"Enter Second octal No.  :\")\n",
        "\n",
        "\n",
        "def OctalToDecimal(num):\n",
        "\n",
        "       decimal_value = 0\n",
        "       base = 1\n",
        "\n",
        "       while (num):\n",
        "           last_digit = num % 10\n",
        "           num = int(num / 10)\n",
        "           decimal_value += last_digit * base\n",
        "           base = base * 8\n",
        "       return decimal_value\n",
        "\n",
        "A=OctalToDecimal(int(num_1))\n",
        "B=OctalToDecimal(int(num_2))\n",
        "result=A-B\n",
        "    \n",
        "\n",
        "\n",
        "def decToOctal(n):\n",
        "\n",
        "        octalNum = [0] * 100\n",
        "\n",
        "        i = 0\n",
        "        while (n != 0):\n",
        "\n",
        "            octalNum[i] = n % 8\n",
        "            n = int(n / 8)\n",
        "            i += 1\n",
        "\n",
        "        for j in range(i - 1, -1, -1):\n",
        "            print(octalNum[j], end=\"\")\n",
        "\n",
        "\n",
        "\n",
        "n = result \n",
        "print(\"Result= \",end=\"\")\n",
        "decToOctal(n)"
      ],
      "metadata": {
        "colab": {
          "base_uri": "https://localhost:8080/"
        },
        "id": "IuP_ctEym_aK",
        "outputId": "7e1b7d1f-657e-4d63-863c-30d57a62f687"
      },
      "execution_count": null,
      "outputs": [
        {
          "output_type": "stream",
          "name": "stdout",
          "text": [
            "Enter First Octal N0. :5725\n",
            "Enter Second octal No.  :1275\n",
            "Result= 4430"
          ]
        }
      ]
    },
    {
      "cell_type": "code",
      "source": [
        "#Hexa Addition\n",
        "\n",
        "num_1 = input(\"Enter First hex N0. :\")\n",
        "num_2 = input(\"Enter Second hex No.  :\")\n",
        "\n",
        "\n"
      ],
      "metadata": {
        "id": "GZtGwCDluXVj"
      },
      "execution_count": null,
      "outputs": []
    }
  ]
}